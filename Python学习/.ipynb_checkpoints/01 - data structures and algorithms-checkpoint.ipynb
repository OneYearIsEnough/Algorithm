{
 "cells": [
  {
   "cell_type": "markdown",
   "id": "afe29f39",
   "metadata": {},
   "source": [
    "# unpack"
   ]
  },
  {
   "cell_type": "code",
   "execution_count": 2,
   "id": "873e6223",
   "metadata": {},
   "outputs": [
    {
     "name": "stdout",
     "output_type": "stream",
     "text": [
      "2\n"
     ]
    }
   ],
   "source": [
    "grades = [1, 2, 3, 4, 5]\n",
    "first, *mid, _, _, last = grades  # mid always list\n",
    "print(sum(mid))"
   ]
  },
  {
   "cell_type": "code",
   "execution_count": 4,
   "id": "be7f1ea7",
   "metadata": {},
   "outputs": [
    {
     "name": "stdout",
     "output_type": "stream",
     "text": [
      "[]\n"
     ]
    }
   ],
   "source": [
    "head, *tail = [1]\n",
    "print(tail)"
   ]
  },
  {
   "cell_type": "markdown",
   "id": "97b445de",
   "metadata": {},
   "source": [
    "# first/last N"
   ]
  },
  {
   "cell_type": "code",
   "execution_count": 6,
   "id": "fb4e1ce3",
   "metadata": {},
   "outputs": [
    {
     "name": "stdout",
     "output_type": "stream",
     "text": [
      "deque([2, 3], maxlen=3)\n",
      "deque([2], maxlen=3)\n",
      "deque([5, 4, 2], maxlen=3)\n",
      "deque([4, 2], maxlen=3)\n"
     ]
    }
   ],
   "source": [
    "from collections import deque\n",
    "\n",
    "q = deque(maxlen=3)\n",
    "q.append(2)\n",
    "q.append(3)\n",
    "print(q)\n",
    "q.pop()\n",
    "print(q)\n",
    "q.appendleft(4)\n",
    "q.appendleft(5)\n",
    "print(q)\n",
    "q.popleft()\n",
    "print(q)"
   ]
  },
  {
   "cell_type": "markdown",
   "id": "b6a09be4",
   "metadata": {},
   "source": [
    "# largest/smallest N"
   ]
  },
  {
   "cell_type": "code",
   "execution_count": 7,
   "id": "6e3e7ec8",
   "metadata": {},
   "outputs": [
    {
     "name": "stdout",
     "output_type": "stream",
     "text": [
      "[23, 8]\n",
      "[1, 2]\n"
     ]
    }
   ],
   "source": [
    "import heapq\n",
    "\n",
    "nums = [1, 8, 2, 23, 7]\n",
    "print(heapq.nlargest(2, nums))\n",
    "print(heapq.nsmallest(2, nums))"
   ]
  },
  {
   "cell_type": "code",
   "execution_count": 9,
   "id": "d7ae11a8",
   "metadata": {},
   "outputs": [
    {
     "name": "stdout",
     "output_type": "stream",
     "text": [
      "[{'name': 'AAPL', 'shares': 50, 'price': 543.22}, {'name': 'IBM', 'shares': 100, 'price': 91.1}]\n",
      "[{'name': 'AAPL', 'shares': 50, 'price': 543.22}, {'name': 'AB', 'shares': 200, 'price': 21.09}]\n"
     ]
    }
   ],
   "source": [
    "portfolio = [\n",
    " {'name': 'IBM', 'shares': 100, 'price': 91.1},\n",
    " {'name': 'AAPL', 'shares': 50, 'price': 543.22},\n",
    " {'name': 'AB', 'shares': 200, 'price': 21.09},\n",
    "]\n",
    "print(heapq.nlargest(2, portfolio, key=lambda x: x['price']))\n",
    "print(heapq.nsmallest(2, portfolio, key=lambda x: x['name']))  # character order"
   ]
  },
  {
   "cell_type": "code",
   "execution_count": 18,
   "id": "fe59ebb1",
   "metadata": {},
   "outputs": [
    {
     "name": "stdout",
     "output_type": "stream",
     "text": [
      "[-4, 2, 1, 23, 7, 2, 18, 23, 42, 37, 8]\n",
      "-4\n",
      "1\n",
      "[2, 2, 8, 23, 7, 37, 18, 23, 42]\n"
     ]
    }
   ],
   "source": [
    "# build minHeap\n",
    "nums = [1, 8, 2, 23, 7, -4, 18, 23, 42, 37, 2]\n",
    "heapq.heapify(nums)  # inplace operation，nuns now is a minheap structure\n",
    "print(nums)\n",
    "print(heapq.heappop(nums))\n",
    "print(heapq.heappop(nums))\n",
    "print(nums)\n",
    "\n",
    "# How to build maxHeap?\n",
    "# 估计只能：索引小根堆+相反数"
   ]
  },
  {
   "cell_type": "markdown",
   "id": "8d5d2576",
   "metadata": {},
   "source": [
    "# priority queue"
   ]
  },
  {
   "cell_type": "code",
   "execution_count": 23,
   "id": "eca96dfe",
   "metadata": {},
   "outputs": [
    {
     "name": "stdout",
     "output_type": "stream",
     "text": [
      "b\n",
      "d\n",
      "a\n"
     ]
    },
    {
     "data": {
      "text/plain": [
       "True"
      ]
     },
     "execution_count": 23,
     "metadata": {},
     "output_type": "execute_result"
    }
   ],
   "source": [
    "class PriorityQueue:\n",
    "    def __init__(self):\n",
    "        self.queue = []\n",
    "        self._index = 0  # 时间戳，如果两个item优先级一样，将会按照入队的时间顺序排序（先进来的那个优先级高）\n",
    "        \n",
    "    def __len__(self):\n",
    "        return len(self.queue)\n",
    "        \n",
    "    def push(self, item, priority):\n",
    "        heapq.heappush(self.queue, (-priority, self._index, item))  # 注意heapq操作的是小根堆\n",
    "        self._index += 1\n",
    "        \n",
    "    def pop(self):\n",
    "        assert len(self.queue) > 0\n",
    "        return heapq.heappop(self.queue)[-1]\n",
    "    \n",
    "\n",
    "q = PriorityQueue()\n",
    "q.push('a', 2)\n",
    "q.push('b', 5)\n",
    "q.push('d', 5)  # 'b'在'd'前\n",
    "while len(q):\n",
    "    print(q.pop())\n",
    "    \n",
    "    \n",
    "# check tuple internal sort attribution\n",
    "(1, 2) < (1, 3)"
   ]
  },
  {
   "cell_type": "code",
   "execution_count": null,
   "id": "267ac5bb",
   "metadata": {},
   "outputs": [],
   "source": []
  }
 ],
 "metadata": {
  "kernelspec": {
   "display_name": "Python [conda env:general] *",
   "language": "python",
   "name": "conda-env-general-py"
  },
  "language_info": {
   "codemirror_mode": {
    "name": "ipython",
    "version": 3
   },
   "file_extension": ".py",
   "mimetype": "text/x-python",
   "name": "python",
   "nbconvert_exporter": "python",
   "pygments_lexer": "ipython3",
   "version": "3.7.4"
  }
 },
 "nbformat": 4,
 "nbformat_minor": 5
}
