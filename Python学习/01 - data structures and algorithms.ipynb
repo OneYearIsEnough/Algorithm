{
 "cells": [
  {
   "cell_type": "markdown",
   "id": "afe29f39",
   "metadata": {},
   "source": [
    "# unpack"
   ]
  },
  {
   "cell_type": "code",
   "execution_count": 2,
   "id": "873e6223",
   "metadata": {},
   "outputs": [
    {
     "name": "stdout",
     "output_type": "stream",
     "text": [
      "2\n"
     ]
    }
   ],
   "source": [
    "grades = [1, 2, 3, 4, 5]\n",
    "first, *mid, _, _, last = grades  # mid always list\n",
    "print(sum(mid))"
   ]
  },
  {
   "cell_type": "code",
   "execution_count": 4,
   "id": "be7f1ea7",
   "metadata": {},
   "outputs": [
    {
     "name": "stdout",
     "output_type": "stream",
     "text": [
      "[]\n"
     ]
    }
   ],
   "source": [
    "head, *tail = [1]\n",
    "print(tail)"
   ]
  },
  {
   "cell_type": "markdown",
   "id": "97b445de",
   "metadata": {},
   "source": [
    "# first/last N"
   ]
  },
  {
   "cell_type": "code",
   "execution_count": 6,
   "id": "fb4e1ce3",
   "metadata": {},
   "outputs": [
    {
     "name": "stdout",
     "output_type": "stream",
     "text": [
      "deque([2, 3], maxlen=3)\n",
      "deque([2], maxlen=3)\n",
      "deque([5, 4, 2], maxlen=3)\n",
      "deque([4, 2], maxlen=3)\n"
     ]
    }
   ],
   "source": [
    "from collections import deque\n",
    "\n",
    "q = deque(maxlen=3)\n",
    "q.append(2)\n",
    "q.append(3)\n",
    "print(q)\n",
    "q.pop()\n",
    "print(q)\n",
    "q.appendleft(4)\n",
    "q.appendleft(5)\n",
    "print(q)\n",
    "q.popleft()\n",
    "print(q)"
   ]
  },
  {
   "cell_type": "markdown",
   "id": "b6a09be4",
   "metadata": {},
   "source": [
    "# largest/smallest N"
   ]
  },
  {
   "cell_type": "code",
   "execution_count": 7,
   "id": "6e3e7ec8",
   "metadata": {},
   "outputs": [
    {
     "name": "stdout",
     "output_type": "stream",
     "text": [
      "[23, 8]\n",
      "[1, 2]\n"
     ]
    }
   ],
   "source": [
    "import heapq\n",
    "\n",
    "nums = [1, 8, 2, 23, 7]\n",
    "print(heapq.nlargest(2, nums))\n",
    "print(heapq.nsmallest(2, nums))"
   ]
  },
  {
   "cell_type": "code",
   "execution_count": 9,
   "id": "d7ae11a8",
   "metadata": {},
   "outputs": [
    {
     "name": "stdout",
     "output_type": "stream",
     "text": [
      "[{'name': 'AAPL', 'shares': 50, 'price': 543.22}, {'name': 'IBM', 'shares': 100, 'price': 91.1}]\n",
      "[{'name': 'AAPL', 'shares': 50, 'price': 543.22}, {'name': 'AB', 'shares': 200, 'price': 21.09}]\n"
     ]
    }
   ],
   "source": [
    "portfolio = [\n",
    " {'name': 'IBM', 'shares': 100, 'price': 91.1},\n",
    " {'name': 'AAPL', 'shares': 50, 'price': 543.22},\n",
    " {'name': 'AB', 'shares': 200, 'price': 21.09},\n",
    "]\n",
    "print(heapq.nlargest(2, portfolio, key=lambda x: x['price']))\n",
    "print(heapq.nsmallest(2, portfolio, key=lambda x: x['name']))  # character order"
   ]
  },
  {
   "cell_type": "code",
   "execution_count": 18,
   "id": "fe59ebb1",
   "metadata": {},
   "outputs": [
    {
     "name": "stdout",
     "output_type": "stream",
     "text": [
      "[-4, 2, 1, 23, 7, 2, 18, 23, 42, 37, 8]\n",
      "-4\n",
      "1\n",
      "[2, 2, 8, 23, 7, 37, 18, 23, 42]\n"
     ]
    }
   ],
   "source": [
    "# build minHeap\n",
    "nums = [1, 8, 2, 23, 7, -4, 18, 23, 42, 37, 2]\n",
    "heapq.heapify(nums)  # inplace operation，nuns now is a minheap structure\n",
    "print(nums)\n",
    "print(heapq.heappop(nums))\n",
    "print(heapq.heappop(nums))\n",
    "print(nums)\n",
    "\n",
    "# How to build maxHeap?\n",
    "# 估计只能：索引小根堆+相反数"
   ]
  },
  {
   "cell_type": "markdown",
   "id": "8d5d2576",
   "metadata": {},
   "source": [
    "# priority queue"
   ]
  },
  {
   "cell_type": "code",
   "execution_count": 23,
   "id": "eca96dfe",
   "metadata": {},
   "outputs": [
    {
     "name": "stdout",
     "output_type": "stream",
     "text": [
      "b\n",
      "d\n",
      "a\n"
     ]
    },
    {
     "data": {
      "text/plain": [
       "True"
      ]
     },
     "execution_count": 23,
     "metadata": {},
     "output_type": "execute_result"
    }
   ],
   "source": [
    "class PriorityQueue:\n",
    "    def __init__(self):\n",
    "        self.queue = []\n",
    "        self._index = 0  # 时间戳，如果两个item优先级一样，将会按照入队的时间顺序排序（先进来的那个优先级高）\n",
    "        \n",
    "    def __len__(self):\n",
    "        return len(self.queue)\n",
    "        \n",
    "    def push(self, item, priority):\n",
    "        heapq.heappush(self.queue, (-priority, self._index, item))  # 注意heapq操作的是小根堆\n",
    "        self._index += 1\n",
    "        \n",
    "    def pop(self):\n",
    "        assert len(self.queue) > 0\n",
    "        return heapq.heappop(self.queue)[-1]\n",
    "    \n",
    "\n",
    "q = PriorityQueue()\n",
    "q.push('a', 2)\n",
    "q.push('b', 5)\n",
    "q.push('d', 5)  # 'b'在'd'前\n",
    "while len(q):\n",
    "    print(q.pop())\n",
    "    \n",
    "    \n",
    "# check tuple internal sort attribution\n",
    "(1, 2) < (1, 3)"
   ]
  },
  {
   "cell_type": "markdown",
   "id": "43fb2546",
   "metadata": {},
   "source": [
    "# multidict"
   ]
  },
  {
   "cell_type": "code",
   "execution_count": 2,
   "id": "4d411b1c",
   "metadata": {},
   "outputs": [
    {
     "name": "stdout",
     "output_type": "stream",
     "text": [
      "defaultdict(<class 'list'>, {0: [2], '1': [3]})\n",
      "defaultdict(<class 'set'>, {0: {2}, '1': {3}})\n",
      "{0: [2], '1': [3]}\n"
     ]
    }
   ],
   "source": [
    "from collections import defaultdict\n",
    "\n",
    "d = defaultdict(list)\n",
    "d[0].append(2)\n",
    "d['1'].append(3)\n",
    "print(d)\n",
    "\n",
    "d = defaultdict(set)\n",
    "d[0].add(2)\n",
    "d['1'].add(3)\n",
    "print(d)\n",
    "\n",
    "# 如果不用defaultdict，那么就需要setdefault方法，而且用起来不自然，op多的话话导致代码臃肿，推荐defaultdict\n",
    "d = {}\n",
    "d.setdefault(0, []).append(2)\n",
    "d.setdefault('1', []).append(3)\n",
    "print(d)"
   ]
  },
  {
   "cell_type": "markdown",
   "id": "fa3e4c59",
   "metadata": {},
   "source": [
    "# keeping dictionaries in order"
   ]
  },
  {
   "cell_type": "code",
   "execution_count": 4,
   "id": "35396529",
   "metadata": {},
   "outputs": [
    {
     "name": "stdout",
     "output_type": "stream",
     "text": [
      "OrderedDict([(4, 100), (0, 101), ('a', 102)])\n"
     ]
    }
   ],
   "source": [
    "from collections import OrderedDict\n",
    "\n",
    "\n",
    "# OrderedDict内部维护了一个双向链表，需要记录key的顺序，所以占的内存要比dict大的多，大数据的情况下要总和考虑。\n",
    "d = OrderedDict()\n",
    "d[4] = 100\n",
    "d[0] = 101\n",
    "d['a'] = 102\n",
    "print(d)"
   ]
  },
  {
   "cell_type": "markdown",
   "id": "9fefedb7",
   "metadata": {},
   "source": [
    "# calculating with dictionaries"
   ]
  },
  {
   "cell_type": "code",
   "execution_count": 16,
   "id": "3a24faac",
   "metadata": {},
   "outputs": [
    {
     "name": "stdout",
     "output_type": "stream",
     "text": [
      "(10.75, 'FB')\n",
      "('AAPL', 612.78)\n",
      "AAPL\n",
      "10.75\n",
      "(10.75, 'FB')\n"
     ]
    }
   ],
   "source": [
    "prices = {\n",
    "   'ACME': 45.23,\n",
    "   'AAPL': 612.78,\n",
    "   'IBM': 205.55,\n",
    "   'HPQ': 37.20,\n",
    "   'FB': 10.75\n",
    "}\n",
    "\n",
    "# zip 很好的应用\n",
    "# 求最小的value，同时能够返回对应的key，第一key为value，value相同则比较key\n",
    "print(min(zip(prices.values(), prices.keys())))\n",
    "\n",
    "\n",
    "print(min(prices.items())) # 此时是按key的大小进行排序的，不符合预期\n",
    "print(min(prices.keys()))  # 丢了value\n",
    "print(min(prices.values()))  # 丢了key\n",
    "\n",
    "# 注意zip返回的是迭代器，只能用一次，用完后就失效了\n",
    "elems = zip(prices.values(), prices.keys())\n",
    "print(min(elems))\n",
    "# print(min(elems))  # 会报错： min() arg is an empty sequence"
   ]
  },
  {
   "cell_type": "markdown",
   "id": "4a7ce8ee",
   "metadata": {},
   "source": [
    "# finding commonalities in two dictionaries"
   ]
  },
  {
   "cell_type": "code",
   "execution_count": 24,
   "id": "0959f02f",
   "metadata": {},
   "outputs": [
    {
     "name": "stdout",
     "output_type": "stream",
     "text": [
      "<class 'dict_keys'>\n",
      "{'y', 'x'}\n",
      "{'w', 'y', 'x', 'z'}\n",
      "{'z'}\n"
     ]
    },
    {
     "ename": "TypeError",
     "evalue": "unhashable type: 'list'",
     "output_type": "error",
     "traceback": [
      "\u001b[0;31m---------------------------------------------------------------------------\u001b[0m",
      "\u001b[0;31mTypeError\u001b[0m                                 Traceback (most recent call last)",
      "\u001b[0;32m<ipython-input-24-f272a9883087>\u001b[0m in \u001b[0;36m<module>\u001b[0;34m\u001b[0m\n\u001b[1;32m     16\u001b[0m \u001b[0mprint\u001b[0m\u001b[0;34m(\u001b[0m\u001b[0mx\u001b[0m \u001b[0;34m-\u001b[0m \u001b[0my\u001b[0m\u001b[0;34m)\u001b[0m\u001b[0;34m\u001b[0m\u001b[0;34m\u001b[0m\u001b[0m\n\u001b[1;32m     17\u001b[0m \u001b[0;34m\u001b[0m\u001b[0m\n\u001b[0;32m---> 18\u001b[0;31m \u001b[0mprint\u001b[0m\u001b[0;34m(\u001b[0m\u001b[0ma\u001b[0m\u001b[0;34m.\u001b[0m\u001b[0mitems\u001b[0m\u001b[0;34m(\u001b[0m\u001b[0;34m)\u001b[0m \u001b[0;34m&\u001b[0m \u001b[0mb\u001b[0m\u001b[0;34m.\u001b[0m\u001b[0mitems\u001b[0m\u001b[0;34m(\u001b[0m\u001b[0;34m)\u001b[0m\u001b[0;34m)\u001b[0m\u001b[0;34m\u001b[0m\u001b[0;34m\u001b[0m\u001b[0m\n\u001b[0m\u001b[1;32m     19\u001b[0m \u001b[0;34m\u001b[0m\u001b[0m\n\u001b[1;32m     20\u001b[0m \u001b[0mnew_ab\u001b[0m \u001b[0;34m=\u001b[0m \u001b[0;34m{\u001b[0m\u001b[0mkey\u001b[0m\u001b[0;34m:\u001b[0m \u001b[0ma\u001b[0m\u001b[0;34m[\u001b[0m\u001b[0mkey\u001b[0m\u001b[0;34m]\u001b[0m \u001b[0;32mfor\u001b[0m \u001b[0mkey\u001b[0m \u001b[0;32min\u001b[0m \u001b[0ma\u001b[0m\u001b[0;34m.\u001b[0m\u001b[0mkeys\u001b[0m\u001b[0;34m(\u001b[0m\u001b[0;34m)\u001b[0m \u001b[0;34m-\u001b[0m \u001b[0;34m{\u001b[0m\u001b[0;34m'z'\u001b[0m\u001b[0;34m,\u001b[0m \u001b[0;34m'w'\u001b[0m\u001b[0;34m}\u001b[0m\u001b[0;34m}\u001b[0m\u001b[0;34m\u001b[0m\u001b[0;34m\u001b[0m\u001b[0m\n",
      "\u001b[0;31mTypeError\u001b[0m: unhashable type: 'list'"
     ]
    }
   ],
   "source": [
    "a = {\n",
    "    'x' : 1,\n",
    "    'y' : 2,\n",
    "    'z' : 3 \n",
    "}\n",
    "b = {\n",
    "    'w' : 10,\n",
    "    'x' : 11,\n",
    "    'y' : 2 \n",
    "}\n",
    "\n",
    "print(type(a.keys()))  # 可以看做是set\n",
    "x, y = a.keys(), b.keys()\n",
    "print(x & y)\n",
    "print(x | y)\n",
    "print(x - y)\n",
    "\n",
    "# 有条件的，由于value有可能不可hash，因此转不了set的话会报错，但是这个demo是可以正常运行的，都能hash\n",
    "print(a.items() & b.items())\n",
    "\n",
    "new_ab = {key: a[key] for key in a.keys() - {'z', 'w'}}\n",
    "print(new_ab)"
   ]
  },
  {
   "cell_type": "code",
   "execution_count": null,
   "id": "ed6675ed",
   "metadata": {},
   "outputs": [],
   "source": []
  }
 ],
 "metadata": {
  "kernelspec": {
   "display_name": "Python [conda env:general] *",
   "language": "python",
   "name": "conda-env-general-py"
  },
  "language_info": {
   "codemirror_mode": {
    "name": "ipython",
    "version": 3
   },
   "file_extension": ".py",
   "mimetype": "text/x-python",
   "name": "python",
   "nbconvert_exporter": "python",
   "pygments_lexer": "ipython3",
   "version": "3.7.11"
  }
 },
 "nbformat": 4,
 "nbformat_minor": 5
}
